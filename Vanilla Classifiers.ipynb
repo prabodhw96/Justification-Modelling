{
 "cells": [
  {
   "cell_type": "code",
   "execution_count": 1,
   "metadata": {},
   "outputs": [],
   "source": [
    "import numpy as np\n",
    "import pandas as pd\n",
    "import matplotlib.pyplot as plt\n",
    "import seaborn as sns\n",
    "plt.style.use('ggplot')"
   ]
  },
  {
   "cell_type": "code",
   "execution_count": 2,
   "metadata": {},
   "outputs": [],
   "source": [
    "train2 = pd.read_csv(\"data/train2.csv\")\n",
    "test2 = pd.read_csv(\"data/test2.csv\")\n",
    "val2 = pd.read_csv(\"data/val2.csv\")"
   ]
  },
  {
   "cell_type": "code",
   "execution_count": 3,
   "metadata": {},
   "outputs": [],
   "source": [
    "train2[\"text\"] = train2[\"statement\"] + train2[\"justification\"]\n",
    "test2[\"text\"] = test2[\"statement\"] + test2[\"justification\"]\n",
    "val2[\"text\"] = val2[\"statement\"] + val2[\"justification\"]"
   ]
  },
  {
   "cell_type": "code",
   "execution_count": 4,
   "metadata": {},
   "outputs": [],
   "source": [
    "train2 = train2.dropna(subset=['text'])\n",
    "test2 = test2.dropna(subset=['text'])\n",
    "val2 = val2.dropna(subset=['text'])"
   ]
  },
  {
   "cell_type": "code",
   "execution_count": 5,
   "metadata": {},
   "outputs": [],
   "source": [
    "from sklearn.feature_extraction.text import CountVectorizer, TfidfVectorizer\n",
    "\n",
    "countV = CountVectorizer()\n",
    "tfidf_ngram = TfidfVectorizer(stop_words='english', ngram_range=(1,4), use_idf=True, smooth_idf=True)"
   ]
  },
  {
   "cell_type": "code",
   "execution_count": 6,
   "metadata": {},
   "outputs": [],
   "source": [
    "from sklearn.pipeline import Pipeline\n",
    "from sklearn.naive_bayes import MultinomialNB\n",
    "from sklearn.linear_model import LogisticRegression, SGDClassifier\n",
    "from sklearn.svm import LinearSVC\n",
    "from sklearn.ensemble import RandomForestClassifier, GradientBoostingClassifier\n",
    "from sklearn.metrics import accuracy_score, classification_report"
   ]
  },
  {
   "cell_type": "markdown",
   "metadata": {},
   "source": [
    "### Using CountVectorizer"
   ]
  },
  {
   "cell_type": "code",
   "execution_count": 7,
   "metadata": {},
   "outputs": [
    {
     "name": "stdout",
     "output_type": "stream",
     "text": [
      "0.247244094488189\n",
      "              precision    recall  f1-score   support\n",
      "\n",
      "           0       0.03      0.38      0.05         8\n",
      "           1       0.28      0.25      0.26       281\n",
      "           2       0.10      0.21      0.13       107\n",
      "           3       0.44      0.23      0.30       462\n",
      "           4       0.30      0.29      0.29       263\n",
      "           5       0.21      0.23      0.22       149\n",
      "\n",
      "    accuracy                           0.25      1270\n",
      "   macro avg       0.22      0.27      0.21      1270\n",
      "weighted avg       0.32      0.25      0.27      1270\n",
      "\n"
     ]
    }
   ],
   "source": [
    "nb_clf = Pipeline([('NBCV',countV), ('NB',MultinomialNB())])\n",
    "nb_clf.fit(train2[\"text\"], train2[\"label\"])\n",
    "predNB = nb_clf.predict(val2[\"text\"])\n",
    "print(accuracy_score(predNB, val2[\"label\"]))\n",
    "print(classification_report(predNB, val2[\"label\"]))"
   ]
  },
  {
   "cell_type": "code",
   "execution_count": 8,
   "metadata": {},
   "outputs": [
    {
     "name": "stderr",
     "output_type": "stream",
     "text": [
      "/usr/local/lib/python3.6/dist-packages/sklearn/linear_model/logistic.py:432: FutureWarning: Default solver will be changed to 'lbfgs' in 0.22. Specify a solver to silence this warning.\n",
      "  FutureWarning)\n",
      "/usr/local/lib/python3.6/dist-packages/sklearn/linear_model/logistic.py:469: FutureWarning: Default multi_class will be changed to 'auto' in 0.22. Specify the multi_class option to silence this warning.\n",
      "  \"this warning.\", FutureWarning)\n"
     ]
    },
    {
     "name": "stdout",
     "output_type": "stream",
     "text": [
      "0.20708661417322835\n",
      "              precision    recall  f1-score   support\n",
      "\n",
      "           0       0.14      0.16      0.15        99\n",
      "           1       0.21      0.19      0.20       278\n",
      "           2       0.14      0.22      0.17       146\n",
      "           3       0.29      0.23      0.26       298\n",
      "           4       0.21      0.25      0.23       211\n",
      "           5       0.23      0.16      0.19       238\n",
      "\n",
      "    accuracy                           0.21      1270\n",
      "   macro avg       0.20      0.20      0.20      1270\n",
      "weighted avg       0.22      0.21      0.21      1270\n",
      "\n"
     ]
    },
    {
     "name": "stderr",
     "output_type": "stream",
     "text": [
      "/usr/local/lib/python3.6/dist-packages/sklearn/svm/base.py:929: ConvergenceWarning: Liblinear failed to converge, increase the number of iterations.\n",
      "  \"the number of iterations.\", ConvergenceWarning)\n"
     ]
    }
   ],
   "source": [
    "logR_clf = Pipeline([('logRCV', countV), ('LogR', LogisticRegression())])\n",
    "logR_clf.fit(train2[\"text\"], train2[\"label\"])\n",
    "predlogR = logR_clf.predict(val2[\"text\"])\n",
    "print(accuracy_score(predlogR, val2[\"label\"]))\n",
    "print(classification_report(predlogR, val2[\"label\"]))"
   ]
  },
  {
   "cell_type": "code",
   "execution_count": 9,
   "metadata": {},
   "outputs": [
    {
     "name": "stdout",
     "output_type": "stream",
     "text": [
      "0.2047244094488189\n",
      "              precision    recall  f1-score   support\n",
      "\n",
      "           0       0.13      0.15      0.14        97\n",
      "           1       0.18      0.18      0.18       257\n",
      "           2       0.18      0.21      0.19       206\n",
      "           3       0.24      0.22      0.23       258\n",
      "           4       0.23      0.25      0.24       233\n",
      "           5       0.24      0.19      0.21       219\n",
      "\n",
      "    accuracy                           0.20      1270\n",
      "   macro avg       0.20      0.20      0.20      1270\n",
      "weighted avg       0.21      0.20      0.21      1270\n",
      "\n"
     ]
    },
    {
     "name": "stderr",
     "output_type": "stream",
     "text": [
      "/usr/local/lib/python3.6/dist-packages/sklearn/svm/base.py:929: ConvergenceWarning: Liblinear failed to converge, increase the number of iterations.\n",
      "  \"the number of iterations.\", ConvergenceWarning)\n"
     ]
    }
   ],
   "source": [
    "svm_clf = Pipeline([('SVMCV', countV), ('SVM', LinearSVC())])\n",
    "svm_clf.fit(train2[\"text\"], train2[\"label\"])\n",
    "predSVM = svm_clf.predict(val2[\"text\"])\n",
    "print(accuracy_score(predSVM, val2[\"label\"]))\n",
    "print(classification_report(predSVM, val2[\"label\"]))"
   ]
  },
  {
   "cell_type": "code",
   "execution_count": 10,
   "metadata": {},
   "outputs": [
    {
     "name": "stdout",
     "output_type": "stream",
     "text": [
      "0.21181102362204723\n",
      "              precision    recall  f1-score   support\n",
      "\n",
      "           0       0.17      0.11      0.14       166\n",
      "           1       0.20      0.23      0.21       226\n",
      "           2       0.14      0.21      0.17       160\n",
      "           3       0.33      0.23      0.27       358\n",
      "           4       0.19      0.28      0.23       168\n",
      "           5       0.22      0.19      0.21       192\n",
      "\n",
      "    accuracy                           0.21      1270\n",
      "   macro avg       0.21      0.21      0.20      1270\n",
      "weighted avg       0.23      0.21      0.21      1270\n",
      "\n"
     ]
    }
   ],
   "source": [
    "sgd_clf = Pipeline([('SGDCV', countV), ('SGD', SGDClassifier(loss='hinge', penalty='l2', alpha=1e-3))])\n",
    "sgd_clf.fit(train2[\"text\"], train2[\"label\"])\n",
    "predSGD = sgd_clf.predict(val2[\"text\"])\n",
    "print(accuracy_score(predSGD, val2[\"label\"]))\n",
    "print(classification_report(predSGD, val2[\"label\"]))"
   ]
  },
  {
   "cell_type": "code",
   "execution_count": 11,
   "metadata": {},
   "outputs": [
    {
     "name": "stdout",
     "output_type": "stream",
     "text": [
      "0.1889763779527559\n",
      "              precision    recall  f1-score   support\n",
      "\n",
      "           0       0.00      0.00      0.00         0\n",
      "           1       0.02      0.21      0.03        19\n",
      "           2       0.00      0.00      0.00         0\n",
      "           3       0.96      0.19      0.32      1239\n",
      "           4       0.00      0.08      0.01        12\n",
      "           5       0.00      0.00      0.00         0\n",
      "\n",
      "    accuracy                           0.19      1270\n",
      "   macro avg       0.16      0.08      0.06      1270\n",
      "weighted avg       0.94      0.19      0.31      1270\n",
      "\n"
     ]
    },
    {
     "name": "stderr",
     "output_type": "stream",
     "text": [
      "/usr/local/lib/python3.6/dist-packages/sklearn/metrics/classification.py:1439: UndefinedMetricWarning: Recall and F-score are ill-defined and being set to 0.0 in labels with no true samples.\n",
      "  'recall', 'true', average, warn_for)\n"
     ]
    }
   ],
   "source": [
    "rf_clf = Pipeline([('RFCV', countV), ('RF', RandomForestClassifier(n_estimators=150, n_jobs=-1, max_depth=8))])\n",
    "rf_clf.fit(train2[\"text\"], train2[\"label\"])\n",
    "predRF = rf_clf.predict(val2[\"text\"])\n",
    "print(accuracy_score(predRF, val2[\"label\"]))\n",
    "print(classification_report(predRF, val2[\"label\"]))"
   ]
  },
  {
   "cell_type": "markdown",
   "metadata": {},
   "source": [
    "### Using N-grams"
   ]
  },
  {
   "cell_type": "code",
   "execution_count": 12,
   "metadata": {},
   "outputs": [
    {
     "name": "stdout",
     "output_type": "stream",
     "text": [
      "0.22362204724409449\n",
      "              precision    recall  f1-score   support\n",
      "\n",
      "           0       0.00      0.00      0.00         0\n",
      "           1       0.16      0.27      0.20       154\n",
      "           2       0.00      0.00      0.00         1\n",
      "           3       0.82      0.21      0.33       970\n",
      "           4       0.16      0.29      0.21       140\n",
      "           5       0.00      0.00      0.00         5\n",
      "\n",
      "    accuracy                           0.22      1270\n",
      "   macro avg       0.19      0.13      0.12      1270\n",
      "weighted avg       0.66      0.22      0.30      1270\n",
      "\n"
     ]
    },
    {
     "name": "stderr",
     "output_type": "stream",
     "text": [
      "/usr/local/lib/python3.6/dist-packages/sklearn/metrics/classification.py:1439: UndefinedMetricWarning: Recall and F-score are ill-defined and being set to 0.0 in labels with no true samples.\n",
      "  'recall', 'true', average, warn_for)\n"
     ]
    }
   ],
   "source": [
    "nb_clf_ngram = Pipeline([('NB_tfidf',tfidf_ngram), ('NB',MultinomialNB())])\n",
    "nb_clf_ngram.fit(train2[\"text\"], train2[\"label\"])\n",
    "predNB_ngram = nb_clf_ngram.predict(val2[\"text\"])\n",
    "print(accuracy_score(predNB_ngram, val2[\"label\"]))\n",
    "print(classification_report(predNB_ngram, val2[\"label\"]))"
   ]
  },
  {
   "cell_type": "code",
   "execution_count": 13,
   "metadata": {},
   "outputs": [
    {
     "name": "stderr",
     "output_type": "stream",
     "text": [
      "/usr/local/lib/python3.6/dist-packages/sklearn/linear_model/logistic.py:432: FutureWarning: Default solver will be changed to 'lbfgs' in 0.22. Specify a solver to silence this warning.\n",
      "  FutureWarning)\n",
      "/usr/local/lib/python3.6/dist-packages/sklearn/linear_model/logistic.py:469: FutureWarning: Default multi_class will be changed to 'auto' in 0.22. Specify the multi_class option to silence this warning.\n",
      "  \"this warning.\", FutureWarning)\n"
     ]
    },
    {
     "name": "stdout",
     "output_type": "stream",
     "text": [
      "0.25905511811023624\n",
      "              precision    recall  f1-score   support\n",
      "\n",
      "           0       0.00      0.00      0.00         0\n",
      "           1       0.32      0.26      0.29       310\n",
      "           2       0.05      0.28      0.08        39\n",
      "           3       0.51      0.24      0.33       516\n",
      "           4       0.37      0.28      0.32       332\n",
      "           5       0.11      0.25      0.15        73\n",
      "\n",
      "    accuracy                           0.26      1270\n",
      "   macro avg       0.23      0.22      0.19      1270\n",
      "weighted avg       0.39      0.26      0.30      1270\n",
      "\n"
     ]
    },
    {
     "name": "stderr",
     "output_type": "stream",
     "text": [
      "/usr/local/lib/python3.6/dist-packages/sklearn/metrics/classification.py:1439: UndefinedMetricWarning: Recall and F-score are ill-defined and being set to 0.0 in labels with no true samples.\n",
      "  'recall', 'true', average, warn_for)\n"
     ]
    }
   ],
   "source": [
    "logR_clf_ngram = Pipeline([('logR_tfidf', tfidf_ngram), ('LogR', LogisticRegression(penalty='l2', C=1))])\n",
    "logR_clf_ngram.fit(train2[\"text\"], train2[\"label\"])\n",
    "predlogR_ngram = logR_clf_ngram.predict(val2[\"text\"])\n",
    "print(accuracy_score(predlogR_ngram, val2[\"label\"]))\n",
    "print(classification_report(predlogR_ngram, val2[\"label\"]))"
   ]
  },
  {
   "cell_type": "code",
   "execution_count": 14,
   "metadata": {},
   "outputs": [
    {
     "name": "stdout",
     "output_type": "stream",
     "text": [
      "0.2511811023622047\n",
      "              precision    recall  f1-score   support\n",
      "\n",
      "           0       0.06      0.35      0.10        20\n",
      "           1       0.25      0.24      0.24       268\n",
      "           2       0.14      0.22      0.17       150\n",
      "           3       0.35      0.26      0.30       323\n",
      "           4       0.37      0.27      0.31       337\n",
      "           5       0.23      0.23      0.23       172\n",
      "\n",
      "    accuracy                           0.25      1270\n",
      "   macro avg       0.23      0.26      0.23      1270\n",
      "weighted avg       0.29      0.25      0.26      1270\n",
      "\n"
     ]
    }
   ],
   "source": [
    "svm_clf_ngram = Pipeline([('SVM_tfidf', tfidf_ngram), ('SVM', LinearSVC(dual=False))])\n",
    "svm_clf_ngram.fit(train2[\"text\"], train2[\"label\"])\n",
    "predSVM_ngram = svm_clf_ngram.predict(val2[\"text\"])\n",
    "print(accuracy_score(predSVM_ngram, val2[\"label\"]))\n",
    "print(classification_report(predSVM_ngram, val2[\"label\"]))"
   ]
  },
  {
   "cell_type": "code",
   "execution_count": 15,
   "metadata": {},
   "outputs": [
    {
     "name": "stdout",
     "output_type": "stream",
     "text": [
      "0.25196850393700787\n",
      "              precision    recall  f1-score   support\n",
      "\n",
      "           0       0.06      0.32      0.10        22\n",
      "           1       0.24      0.24      0.24       261\n",
      "           2       0.15      0.23      0.18       156\n",
      "           3       0.37      0.26      0.30       347\n",
      "           4       0.37      0.29      0.32       319\n",
      "           5       0.20      0.21      0.20       165\n",
      "\n",
      "    accuracy                           0.25      1270\n",
      "   macro avg       0.23      0.26      0.23      1270\n",
      "weighted avg       0.29      0.25      0.26      1270\n",
      "\n"
     ]
    }
   ],
   "source": [
    "sgd_clf_ngram = Pipeline([('SGD_tfidf', tfidf_ngram), ('SGD', SGDClassifier(loss='hinge', penalty='l2', alpha=1e-3))])\n",
    "sgd_clf_ngram.fit(train2[\"text\"], train2[\"label\"])\n",
    "predSGD_ngram = sgd_clf_ngram.predict(val2[\"text\"])\n",
    "print(accuracy_score(predSGD_ngram, val2[\"label\"]))\n",
    "print(classification_report(predSGD_ngram, val2[\"label\"]))"
   ]
  },
  {
   "cell_type": "code",
   "execution_count": 16,
   "metadata": {},
   "outputs": [
    {
     "name": "stdout",
     "output_type": "stream",
     "text": [
      "0.27086614173228346\n",
      "              precision    recall  f1-score   support\n",
      "\n",
      "           0       0.00      0.00      0.00         0\n",
      "           1       0.49      0.25      0.33       503\n",
      "           2       0.02      0.23      0.04        22\n",
      "           3       0.44      0.28      0.34       396\n",
      "           4       0.35      0.30      0.32       285\n",
      "           5       0.11      0.28      0.16        64\n",
      "\n",
      "    accuracy                           0.27      1270\n",
      "   macro avg       0.23      0.22      0.20      1270\n",
      "weighted avg       0.42      0.27      0.32      1270\n",
      "\n"
     ]
    },
    {
     "name": "stderr",
     "output_type": "stream",
     "text": [
      "/usr/local/lib/python3.6/dist-packages/sklearn/metrics/classification.py:1439: UndefinedMetricWarning: Recall and F-score are ill-defined and being set to 0.0 in labels with no true samples.\n",
      "  'recall', 'true', average, warn_for)\n"
     ]
    }
   ],
   "source": [
    "rf_clf_ngram = Pipeline([('RF_tfidf', tfidf_ngram), ('RF', RandomForestClassifier(n_estimators=300, n_jobs=-1))])\n",
    "rf_clf_ngram.fit(train2[\"text\"], train2[\"label\"])\n",
    "predRF_ngram = rf_clf_ngram.predict(val2[\"text\"])\n",
    "print(accuracy_score(predRF_ngram, val2[\"label\"]))\n",
    "print(classification_report(predRF_ngram, val2[\"label\"]))"
   ]
  },
  {
   "cell_type": "code",
   "execution_count": null,
   "metadata": {},
   "outputs": [],
   "source": []
  }
 ],
 "metadata": {
  "kernelspec": {
   "display_name": "Python 3",
   "language": "python",
   "name": "python3"
  },
  "language_info": {
   "codemirror_mode": {
    "name": "ipython",
    "version": 3
   },
   "file_extension": ".py",
   "mimetype": "text/x-python",
   "name": "python",
   "nbconvert_exporter": "python",
   "pygments_lexer": "ipython3",
   "version": "3.6.8"
  }
 },
 "nbformat": 4,
 "nbformat_minor": 2
}
